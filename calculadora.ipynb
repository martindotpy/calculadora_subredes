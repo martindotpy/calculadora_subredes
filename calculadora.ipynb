{
 "cells": [
  {
   "cell_type": "markdown",
   "metadata": {},
   "source": [
    "# Calculadora de Subredes\n"
   ]
  },
  {
   "cell_type": "code",
   "execution_count": 4,
   "metadata": {},
   "outputs": [],
   "source": [
    "from IPython.display import Markdown, display, clear_output\n",
    "\n",
    "# Instalamos las dependencias necesarias\n",
    "!pip install tabulate numpy -q\n",
    "!pip3 install tabulate numpy -q\n",
    "\n",
    "import numpy as np\n",
    "import tabulate as tb\n",
    "\n",
    "clear_output()"
   ]
  },
  {
   "cell_type": "markdown",
   "metadata": {},
   "source": [
    "Modifica la siguiente celda de código para especificar la dirección IP y la\n",
    "máscara de red que deseas utilizar, a su vez la cantidad de subredes que deseas\n",
    "obtener.\n"
   ]
  },
  {
   "cell_type": "code",
   "execution_count": 5,
   "metadata": {},
   "outputs": [],
   "source": [
    "ip = [192, 168, 10, 0]\n",
    "mask = [255, 255, 255, 0]\n",
    "cantidad_de_subredes = (\n",
    "    4  # Recuerda que la cantidad de subredes debe ser una potencia de 2\n",
    ")"
   ]
  },
  {
   "cell_type": "markdown",
   "metadata": {},
   "source": [
    "**Resultado:**\n"
   ]
  },
  {
   "cell_type": "code",
   "execution_count": 6,
   "metadata": {},
   "outputs": [
    {
     "data": {
      "text/markdown": [
       "\n",
       "Dirección IP: `192.168.10.0/24`  \n",
       "Máscara de red: `255.255.255.0`\n",
       "\n",
       "Requerimientos: 4 subredes\n",
       "\n",
       "<div align='center'>\n",
       "\n",
       "| N° de subred   |   N° de Hosts | IP de la red          | Máscara           | Primer Host      | Último Host      | Broadcast        |\n",
       "|----------------|---------------|-----------------------|-------------------|------------------|------------------|------------------|\n",
       "| Subred 1       |            62 | `192.168.10.0`/`26`   | `255.255.255.192` | `192.168.10.1`   | `192.168.10.62`  | `192.168.10.63`  |\n",
       "| Subred 2       |            62 | `192.168.10.64`/`26`  | `255.255.255.192` | `192.168.10.65`  | `192.168.10.126` | `192.168.10.127` |\n",
       "| Subred 3       |            62 | `192.168.10.128`/`26` | `255.255.255.192` | `192.168.10.129` | `192.168.10.190` | `192.168.10.191` |\n",
       "| Subred 4       |            62 | `192.168.10.192`/`26` | `255.255.255.192` | `192.168.10.193` | `192.168.10.254` | `192.168.10.255` |\n",
       "\n",
       "</div>"
      ],
      "text/plain": [
       "<IPython.core.display.Markdown object>"
      ]
     },
     "metadata": {},
     "output_type": "display_data"
    }
   ],
   "source": [
    "# Calculate the number of bits for the mask\n",
    "ip.append(\n",
    "    sum([f\"{mask[i]:08b}\".count(\"1\") for i in range(len(mask))]),\n",
    ")\n",
    "\n",
    "# N of bits for subnets\n",
    "bits_for_subnets = np.log2(cantidad_de_subredes)\n",
    "\n",
    "if bits_for_subnets % 1:\n",
    "    raise ValueError(\"El número de subredes debe ser una potencia de 2\")\n",
    "\n",
    "bits_for_subnets = bits_for_subnets.astype(int)\n",
    "\n",
    "# New mask\n",
    "new_mask = ip[4] + bits_for_subnets\n",
    "hosts = 2 ** (32 - new_mask) - 2\n",
    "\n",
    "# Create the new subnets\n",
    "new_subnets = []\n",
    "for i in range(2**bits_for_subnets):\n",
    "    new_subnets.append(\n",
    "        f\"{i:0{bits_for_subnets}b}{'0' * (8 - bits_for_subnets)}\"\n",
    "    )\n",
    "\n",
    "# Subnet mask\n",
    "sub_mask = [\n",
    "    255,\n",
    "    255,\n",
    "    255,\n",
    "    sum([\n",
    "        int(\n",
    "            f\"{2**bits_for_subnets - 1:0{bits_for_subnets}b}{'0' * (8 - bits_for_subnets)}\"[\n",
    "                i\n",
    "            ]\n",
    "        )\n",
    "        * 2 ** (7 - i)\n",
    "        for i in range(8)\n",
    "    ]),\n",
    "]\n",
    "\n",
    "new_subnets = [\n",
    "    [\n",
    "        ip[0],\n",
    "        ip[1],\n",
    "        ip[2],\n",
    "        sum([int(subnet[i]) * 2 ** (7 - i) for i in range(8)]),\n",
    "    ]\n",
    "    for subnet in new_subnets\n",
    "]\n",
    "\n",
    "aux_new_subnets = new_subnets.copy()\n",
    "new_subnets = []\n",
    "\n",
    "for i in range(len(aux_new_subnets)):\n",
    "    first_host = aux_new_subnets[i][-1] + 1\n",
    "    last_host = aux_new_subnets[i][-1] + hosts\n",
    "    broadcast = aux_new_subnets[i][-1] + hosts + 1\n",
    "\n",
    "    new_subnets.append([\n",
    "        f\"Subred {i + 1}\",\n",
    "        hosts,\n",
    "        f\"`{'.'.join(map(str, aux_new_subnets[i]))}`/`{new_mask}`\",\n",
    "        f\"`{'.'.join(map(str, sub_mask))}`\",\n",
    "        f\"`{'.'.join(map(str, aux_new_subnets[i][:3] + [first_host]))}`\",\n",
    "        f\"`{'.'.join(map(str, aux_new_subnets[i][:3] + [last_host]))}`\",\n",
    "        f\"`{'.'.join(map(str, aux_new_subnets[i][:3] + [broadcast]))}`\",\n",
    "    ])\n",
    "\n",
    "table = tb.tabulate(\n",
    "    new_subnets,\n",
    "    headers=[\n",
    "        \"N° de subred\",\n",
    "        \"N° de Hosts\",\n",
    "        \"IP de la red\",\n",
    "        \"Máscara\",\n",
    "        \"Primer Host\",\n",
    "        \"Último Host\",\n",
    "        \"Broadcast\",\n",
    "    ],\n",
    "    tablefmt=\"github\",\n",
    ")\n",
    "\n",
    "display(Markdown(f\"\"\"\n",
    "Dirección IP: `{ip[0]}.{ip[1]}.{ip[2]}.{ip[3]}/{ip[4]}`  \n",
    "Máscara de red: `{mask[0]}.{mask[1]}.{mask[2]}.{mask[3]}`\n",
    "\n",
    "Requerimientos: {cantidad_de_subredes} subredes\n",
    "\n",
    "<div align='center'>\\n\\n{table}\\n\\n</div>\"\"\"))"
   ]
  }
 ],
 "metadata": {
  "kernelspec": {
   "display_name": "Python 3",
   "language": "python",
   "name": "python3"
  },
  "language_info": {
   "codemirror_mode": {
    "name": "ipython",
    "version": 3
   },
   "file_extension": ".py",
   "mimetype": "text/x-python",
   "name": "python",
   "nbconvert_exporter": "python",
   "pygments_lexer": "ipython3",
   "version": "3.12.3"
  }
 },
 "nbformat": 4,
 "nbformat_minor": 2
}
